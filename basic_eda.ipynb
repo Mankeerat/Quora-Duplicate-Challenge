{
 "cells": [
  {
   "cell_type": "code",
   "execution_count": 1,
   "id": "d0baa115",
   "metadata": {},
   "outputs": [],
   "source": [
    "import numpy as np\n",
    "import pandas as pd\n",
    "import seaborn as sns\n",
    "import matplotlib.pyplot as plt"
   ]
  },
  {
   "cell_type": "code",
   "execution_count": 2,
   "id": "b09df44d",
   "metadata": {},
   "outputs": [
    {
     "data": {
      "text/plain": [
       "(404290, 6)"
      ]
     },
     "execution_count": 2,
     "metadata": {},
     "output_type": "execute_result"
    }
   ],
   "source": [
    "df = pd.read_csv(\"train.csv\")\n",
    "df.shape"
   ]
  },
  {
   "cell_type": "code",
   "execution_count": 6,
   "id": "8406a641",
   "metadata": {},
   "outputs": [
    {
     "data": {
      "text/html": [
       "<div>\n",
       "<style scoped>\n",
       "    .dataframe tbody tr th:only-of-type {\n",
       "        vertical-align: middle;\n",
       "    }\n",
       "\n",
       "    .dataframe tbody tr th {\n",
       "        vertical-align: top;\n",
       "    }\n",
       "\n",
       "    .dataframe thead th {\n",
       "        text-align: right;\n",
       "    }\n",
       "</style>\n",
       "<table border=\"1\" class=\"dataframe\">\n",
       "  <thead>\n",
       "    <tr style=\"text-align: right;\">\n",
       "      <th></th>\n",
       "      <th>id</th>\n",
       "      <th>qid1</th>\n",
       "      <th>qid2</th>\n",
       "      <th>question1</th>\n",
       "      <th>question2</th>\n",
       "      <th>is_duplicate</th>\n",
       "    </tr>\n",
       "  </thead>\n",
       "  <tbody>\n",
       "    <tr>\n",
       "      <th>198060</th>\n",
       "      <td>198060</td>\n",
       "      <td>299170</td>\n",
       "      <td>299171</td>\n",
       "      <td>In a power system.what vt measures the grid vo...</td>\n",
       "      <td>When the Death Star destroys a planet, does it...</td>\n",
       "      <td>0</td>\n",
       "    </tr>\n",
       "    <tr>\n",
       "      <th>8498</th>\n",
       "      <td>8498</td>\n",
       "      <td>16563</td>\n",
       "      <td>16564</td>\n",
       "      <td>What is liquid nitrogen?</td>\n",
       "      <td>How do you get liquid nitrogen?</td>\n",
       "      <td>0</td>\n",
       "    </tr>\n",
       "    <tr>\n",
       "      <th>328763</th>\n",
       "      <td>328763</td>\n",
       "      <td>455340</td>\n",
       "      <td>455341</td>\n",
       "      <td>How much would you pay for a desk space per day?</td>\n",
       "      <td>Where can you find like-minded people to trave...</td>\n",
       "      <td>0</td>\n",
       "    </tr>\n",
       "    <tr>\n",
       "      <th>260431</th>\n",
       "      <td>260431</td>\n",
       "      <td>376393</td>\n",
       "      <td>121042</td>\n",
       "      <td>Does crime cause poverty, or does poverty caus...</td>\n",
       "      <td>What are the connections between poverty and c...</td>\n",
       "      <td>1</td>\n",
       "    </tr>\n",
       "    <tr>\n",
       "      <th>234857</th>\n",
       "      <td>234857</td>\n",
       "      <td>345447</td>\n",
       "      <td>345448</td>\n",
       "      <td>Would all countries eventually merge into one?</td>\n",
       "      <td>When will all countries merge to one?</td>\n",
       "      <td>1</td>\n",
       "    </tr>\n",
       "    <tr>\n",
       "      <th>263680</th>\n",
       "      <td>263680</td>\n",
       "      <td>380263</td>\n",
       "      <td>380264</td>\n",
       "      <td>Which sentence is more grammatically correct: ...</td>\n",
       "      <td>Is 'I love you, Monkey' grammatically correct?</td>\n",
       "      <td>0</td>\n",
       "    </tr>\n",
       "    <tr>\n",
       "      <th>97984</th>\n",
       "      <td>97984</td>\n",
       "      <td>162908</td>\n",
       "      <td>162909</td>\n",
       "      <td>Where are the best places around the world to ...</td>\n",
       "      <td>Where are the best places around the world to ...</td>\n",
       "      <td>1</td>\n",
       "    </tr>\n",
       "    <tr>\n",
       "      <th>287047</th>\n",
       "      <td>287047</td>\n",
       "      <td>353377</td>\n",
       "      <td>407730</td>\n",
       "      <td>How do I make my wrist stronger?</td>\n",
       "      <td>How can you do to make your wrists stronger?</td>\n",
       "      <td>1</td>\n",
       "    </tr>\n",
       "    <tr>\n",
       "      <th>221689</th>\n",
       "      <td>221689</td>\n",
       "      <td>329093</td>\n",
       "      <td>329094</td>\n",
       "      <td>What are the best free Chinese-English/English...</td>\n",
       "      <td>What is \"hi\" in Chinese?</td>\n",
       "      <td>0</td>\n",
       "    </tr>\n",
       "    <tr>\n",
       "      <th>373687</th>\n",
       "      <td>373687</td>\n",
       "      <td>125520</td>\n",
       "      <td>504529</td>\n",
       "      <td>Why is weed illegal?</td>\n",
       "      <td>Why do drug laws exist?</td>\n",
       "      <td>0</td>\n",
       "    </tr>\n",
       "  </tbody>\n",
       "</table>\n",
       "</div>"
      ],
      "text/plain": [
       "            id    qid1    qid2  \\\n",
       "198060  198060  299170  299171   \n",
       "8498      8498   16563   16564   \n",
       "328763  328763  455340  455341   \n",
       "260431  260431  376393  121042   \n",
       "234857  234857  345447  345448   \n",
       "263680  263680  380263  380264   \n",
       "97984    97984  162908  162909   \n",
       "287047  287047  353377  407730   \n",
       "221689  221689  329093  329094   \n",
       "373687  373687  125520  504529   \n",
       "\n",
       "                                                question1  \\\n",
       "198060  In a power system.what vt measures the grid vo...   \n",
       "8498                             What is liquid nitrogen?   \n",
       "328763   How much would you pay for a desk space per day?   \n",
       "260431  Does crime cause poverty, or does poverty caus...   \n",
       "234857     Would all countries eventually merge into one?   \n",
       "263680  Which sentence is more grammatically correct: ...   \n",
       "97984   Where are the best places around the world to ...   \n",
       "287047                   How do I make my wrist stronger?   \n",
       "221689  What are the best free Chinese-English/English...   \n",
       "373687                               Why is weed illegal?   \n",
       "\n",
       "                                                question2  is_duplicate  \n",
       "198060  When the Death Star destroys a planet, does it...             0  \n",
       "8498                      How do you get liquid nitrogen?             0  \n",
       "328763  Where can you find like-minded people to trave...             0  \n",
       "260431  What are the connections between poverty and c...             1  \n",
       "234857              When will all countries merge to one?             1  \n",
       "263680     Is 'I love you, Monkey' grammatically correct?             0  \n",
       "97984   Where are the best places around the world to ...             1  \n",
       "287047       How can you do to make your wrists stronger?             1  \n",
       "221689                           What is \"hi\" in Chinese?             0  \n",
       "373687                            Why do drug laws exist?             0  "
      ]
     },
     "execution_count": 6,
     "metadata": {},
     "output_type": "execute_result"
    }
   ],
   "source": [
    "df.sample(10)"
   ]
  },
  {
   "cell_type": "code",
   "execution_count": 4,
   "id": "8f8e72e5",
   "metadata": {},
   "outputs": [
    {
     "name": "stdout",
     "output_type": "stream",
     "text": [
      "<class 'pandas.core.frame.DataFrame'>\n",
      "RangeIndex: 404290 entries, 0 to 404289\n",
      "Data columns (total 6 columns):\n",
      " #   Column        Non-Null Count   Dtype \n",
      "---  ------        --------------   ----- \n",
      " 0   id            404290 non-null  int64 \n",
      " 1   qid1          404290 non-null  int64 \n",
      " 2   qid2          404290 non-null  int64 \n",
      " 3   question1     404289 non-null  object\n",
      " 4   question2     404288 non-null  object\n",
      " 5   is_duplicate  404290 non-null  int64 \n",
      "dtypes: int64(4), object(2)\n",
      "memory usage: 18.5+ MB\n"
     ]
    }
   ],
   "source": [
    "df.info()"
   ]
  },
  {
   "cell_type": "code",
   "execution_count": 7,
   "id": "3d893a3b",
   "metadata": {},
   "outputs": [
    {
     "data": {
      "text/plain": [
       "id              0\n",
       "qid1            0\n",
       "qid2            0\n",
       "question1       1\n",
       "question2       2\n",
       "is_duplicate    0\n",
       "dtype: int64"
      ]
     },
     "execution_count": 7,
     "metadata": {},
     "output_type": "execute_result"
    }
   ],
   "source": [
    "#missing values check \n",
    "df.isnull().sum()"
   ]
  },
  {
   "cell_type": "code",
   "execution_count": 9,
   "id": "b066b268",
   "metadata": {},
   "outputs": [
    {
     "data": {
      "text/plain": [
       "0"
      ]
     },
     "execution_count": 9,
     "metadata": {},
     "output_type": "execute_result"
    }
   ],
   "source": [
    "#any duplicated rows?\n",
    "df.duplicated().sum()"
   ]
  },
  {
   "cell_type": "code",
   "execution_count": 12,
   "id": "db952613",
   "metadata": {},
   "outputs": [
    {
     "name": "stdout",
     "output_type": "stream",
     "text": [
      "0    255027\n",
      "1    149263\n",
      "Name: is_duplicate, dtype: int64\n",
      "0    63.080215\n",
      "1    36.919785\n",
      "Name: is_duplicate, dtype: float64\n"
     ]
    },
    {
     "data": {
      "text/plain": [
       "<AxesSubplot:>"
      ]
     },
     "execution_count": 12,
     "metadata": {},
     "output_type": "execute_result"
    },
    {
     "data": {
      "image/png": "[encoded data removed]",
      "text/plain": [
       "<Figure size 432x288 with 1 Axes>"
      ]
     },
     "metadata": {
      "needs_background": "light"
     },
     "output_type": "display_data"
    }
   ],
   "source": [
    "#distribution of duplicate and non-duplicate question, how many question pairs are dublicated and how many are not\n",
    "print(df['is_duplicate'].value_counts()) #find values of 1s and 0s\n",
    "print((df['is_duplicate'].value_counts()/df['is_duplicate'].count())*100) #gets the percent of 1s and 0s\n",
    "df['is_duplicate'].value_counts().plot(kind='bar') #plot it"
   ]
  },
  {
   "cell_type": "code",
   "execution_count": 13,
   "id": "14142a65",
   "metadata": {},
   "outputs": [
    {
     "name": "stdout",
     "output_type": "stream",
     "text": [
      "Number of unique questions 537933\n",
      "Number of questions getting repeated 111780\n"
     ]
    }
   ],
   "source": [
    "#finding repeated questions \n",
    "\n",
    "qid = pd.Series(df['qid1'].tolist() + df['qid2'].tolist()) #questions in 1 and 2\n",
    "print('Number of unique questions', np.unique(qid).shape[0])\n",
    "x = qid.value_counts() > 1\n",
    "print('Number of questions getting repeated', x[x].shape[0])"
   ]
  },
  {
   "cell_type": "code",
   "execution_count": 14,
   "id": "1530f58b",
   "metadata": {},
   "outputs": [
    {
     "data": {
      "image/png": "[encoded data removed]",
      "text/plain": [
       "<Figure size 432x288 with 1 Axes>"
      ]
     },
     "metadata": {
      "needs_background": "light"
     },
     "output_type": "display_data"
    }
   ],
   "source": [
    "#Repeated questions histogram\n",
    "\n",
    "plt.hist(qid.value_counts().values, bins = 160)\n",
    "plt.yscale('log')\n",
    "plt.show()"
   ]
  },
  {
   "cell_type": "code",
   "execution_count": null,
   "id": "e7eee63b",
   "metadata": {},
   "outputs": [],
   "source": []
  }
 ],
 "metadata": {
  "kernelspec": {
   "display_name": "Python 3 (ipykernel)",
   "language": "python",
   "name": "python3"
  },
  "language_info": {
   "codemirror_mode": {
    "name": "ipython",
    "version": 3
   },
   "file_extension": ".py",
   "mimetype": "text/x-python",
   "name": "python",
   "nbconvert_exporter": "python",
   "pygments_lexer": "ipython3",
   "version": "3.9.7"
  }
 },
 "nbformat": 4,
 "nbformat_minor": 5
}
